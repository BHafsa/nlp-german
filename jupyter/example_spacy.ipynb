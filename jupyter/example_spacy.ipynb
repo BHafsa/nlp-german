{
 "cells": [
  {
   "cell_type": "markdown",
   "metadata": {},
   "source": [
    "# spaCy Example\n",
    "\n",
    "*Install spaCy with German models*:\n",
    "```sh\n",
    "pip install spacy && python -m spacy download de\n",
    "```"
   ]
  },
  {
   "cell_type": "code",
   "execution_count": null,
   "metadata": {},
   "outputs": [],
   "source": [
    "import spacy\n",
    "\n",
    "text = u'Gerd suchte ca. 5 min. die 3 Freunde bzw. Kollegen. Sie warteten am 1. Mai in Berlin/ West: am Zoo.'\n",
    "\n",
    "# load german models\n",
    "nlp = spacy.load('de')\n",
    "\n",
    "# annotate text\n",
    "tokens = nlp(text)"
   ]
  },
  {
   "cell_type": "markdown",
   "metadata": {},
   "source": [
    "## Sentence Splitting"
   ]
  },
  {
   "cell_type": "code",
   "execution_count": null,
   "metadata": {},
   "outputs": [],
   "source": [
    "# spaCy has problem with '/' and occasional breaks sentences between words.\n",
    "\n",
    "for i, s in enumerate(tokens.sents):\n",
    "    print(i+1, '-->', s)"
   ]
  },
  {
   "cell_type": "markdown",
   "metadata": {},
   "source": [
    "## Part of Speech Tagging"
   ]
  },
  {
   "cell_type": "code",
   "execution_count": null,
   "metadata": {},
   "outputs": [],
   "source": [
    "# print POS tags\n",
    "for i, s in enumerate(tokens.sents):\n",
    "    print(i+1, '-->', ' '.join([(token.text + '/' + token.pos_) for token in s]))"
   ]
  },
  {
   "cell_type": "code",
   "execution_count": null,
   "metadata": {},
   "outputs": [],
   "source": [
    "def pos_filter(tokens, type='NOUN'):\n",
    "    return [token for token in tokens if token.pos_ == type]\n",
    "\n",
    "print('Nouns:')\n",
    "for i, s in enumerate(tokens.sents):\n",
    "    print(i+1, '-->', ' '.join([(token.text + '/' + token.pos_) for token in pos_filter(s, 'NOUN')]))\n",
    "\n",
    "print('Verbs:')\n",
    "for i, s in enumerate(tokens.sents):\n",
    "    print(i+1, '-->', ' '.join([(token.text + '/' + token.pos_) for token in pos_filter(s, 'VERB')]))"
   ]
  },
  {
   "cell_type": "markdown",
   "metadata": {},
   "source": [
    "## Named Entity Recognition"
   ]
  },
  {
   "cell_type": "code",
   "execution_count": null,
   "metadata": {},
   "outputs": [],
   "source": [
    "# print NER tags\n",
    "for i, s in enumerate(tokens.sents):\n",
    "    print(i+1, '-->', ' '.join([(token.text + '/' + token.ent_type_) for token in s]))"
   ]
  },
  {
   "cell_type": "code",
   "execution_count": null,
   "metadata": {},
   "outputs": [],
   "source": [
    "# extract entities\n",
    "for entity in tokens.ents:\n",
    "    print(entity.text, entity.label_)"
   ]
  },
  {
   "cell_type": "code",
   "execution_count": null,
   "metadata": {},
   "outputs": [],
   "source": []
  }
 ],
 "metadata": {
  "kernelspec": {
   "display_name": "Python 3",
   "language": "python",
   "name": "python3"
  },
  "language_info": {
   "codemirror_mode": {
    "name": "ipython",
    "version": 3
   },
   "file_extension": ".py",
   "mimetype": "text/x-python",
   "name": "python",
   "nbconvert_exporter": "python",
   "pygments_lexer": "ipython3",
   "version": "3.6.4"
  }
 },
 "nbformat": 4,
 "nbformat_minor": 2
}
