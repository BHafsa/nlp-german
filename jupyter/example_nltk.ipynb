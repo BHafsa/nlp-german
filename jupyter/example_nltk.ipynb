{
 "cells": [
  {
   "cell_type": "markdown",
   "metadata": {},
   "source": [
    "# NLTK Example\n",
    "\n",
    "*Install*:\n",
    "```sh\n",
    "pip install nltk\n",
    "```"
   ]
  },
  {
   "cell_type": "code",
   "execution_count": null,
   "metadata": {},
   "outputs": [],
   "source": [
    "import nltk\n",
    "from nltk.tokenize import sent_tokenize, word_tokenize\n",
    "\n",
    "# get punkt tokenizer\n",
    "nltk.download('punkt')\n",
    "\n",
    "text = u'Peter suchte ca. 5 min. die 2 Autos bzw. Sportwagen. Sie standen am 1. Mai in Berlin.'\n",
    "sentences = sent_tokenize(text, language='german')\n",
    "\n",
    "#tokenizer = nltk.data.load('tokenizers/punkt/german.pickle')\n",
    "#sent_tokenize_list = tokenizer.tokenize(text)"
   ]
  },
  {
   "cell_type": "markdown",
   "metadata": {},
   "source": [
    "## Sentence Splitting"
   ]
  },
  {
   "cell_type": "code",
   "execution_count": null,
   "metadata": {},
   "outputs": [],
   "source": [
    "# print sentences\n",
    "for i, s in enumerate(sentences):\n",
    "    print(i+1, '-->', s)"
   ]
  },
  {
   "cell_type": "markdown",
   "metadata": {},
   "source": [
    "## Part of Speech Tagging"
   ]
  },
  {
   "cell_type": "code",
   "execution_count": null,
   "metadata": {},
   "outputs": [],
   "source": [
    "# print POS tags\n",
    "nltk.download('averaged_perceptron_tagger')\n",
    "\n",
    "for i, s in enumerate(sentences):\n",
    "    pos = nltk.pos_tag(word_tokenize(s, language='german'), lang='deu')\n",
    "    print(i+1, '-->', ' '.join(['/'.join(p) for p in pos]))"
   ]
  },
  {
   "cell_type": "markdown",
   "metadata": {},
   "source": [
    "## Named Entity Recognition"
   ]
  },
  {
   "cell_type": "code",
   "execution_count": null,
   "metadata": {},
   "outputs": [],
   "source": [
    "# print NER tags\n",
    "nltk.download('maxent_ne_chunker')\n",
    "nltk.download('words')\n",
    "\n",
    "from nltk import ne_chunk, pos_tag\n",
    "\n",
    "def get_ner(chunk):\n",
    "    if type(chunk) == tuple:\n",
    "        return chunk[0]+'/0'\n",
    "    else:\n",
    "        return chunk.leaves()[0][0]+'/'+chunk.label()\n",
    "\n",
    "for i, s in enumerate(sentences):\n",
    "    chunked = ne_chunk(pos_tag(word_tokenize(s, language='german')))\n",
    "    print(i+1, '-->', ' '.join([get_ner(j) for j in chunked]))"
   ]
  }
 ],
 "metadata": {
  "kernelspec": {
   "display_name": "Python 3",
   "language": "python",
   "name": "python3"
  },
  "language_info": {
   "codemirror_mode": {
    "name": "ipython",
    "version": 3
   },
   "file_extension": ".py",
   "mimetype": "text/x-python",
   "name": "python",
   "nbconvert_exporter": "python",
   "pygments_lexer": "ipython3",
   "version": "3.6.4"
  }
 },
 "nbformat": 4,
 "nbformat_minor": 2
}
