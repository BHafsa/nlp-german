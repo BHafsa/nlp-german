{
 "cells": [
  {
   "cell_type": "markdown",
   "metadata": {},
   "source": [
    "# NLTK Example\n",
    "\n",
    "*Install*:\n",
    "```sh\n",
    "pip install nltk\n",
    "```"
   ]
  },
  {
   "cell_type": "code",
   "execution_count": null,
   "metadata": {},
   "outputs": [],
   "source": [
    "import nltk\n",
    "\n",
    "text = u'Gerd suchte ca. 5 min. die 3 Freunde bzw. Kollegen. Sie warteten am 1. Mai in Berlin/ West: am Zoo.'"
   ]
  },
  {
   "cell_type": "markdown",
   "metadata": {},
   "source": [
    "## Sentence Splitting"
   ]
  },
  {
   "cell_type": "code",
   "execution_count": null,
   "metadata": {},
   "outputs": [],
   "source": [
    "from nltk.tokenize import sent_tokenize\n",
    "\n",
    "# install punkt sentence tokenizer\n",
    "nltk.download('punkt')\n",
    "\n",
    "# seems to be unnecessary: loading the german punkt tokenizer explicitly\n",
    "#tokenizer = nltk.data.load('tokenizers/punkt/german.pickle')"
   ]
  },
  {
   "cell_type": "code",
   "execution_count": null,
   "metadata": {},
   "outputs": [],
   "source": [
    "# split sentences\n",
    "# NLTK has problems with ca., bzw.\n",
    "\n",
    "sentences = sent_tokenize(text, language='german')\n",
    "#sentences = tokenizer.tokenize(text)\n",
    "\n",
    "for i, s in enumerate(sentences):\n",
    "    print(i+1, '-->', s)"
   ]
  },
  {
   "cell_type": "markdown",
   "metadata": {},
   "source": [
    "## Part of Speech Tagging\n",
    "\n",
    "NLTK's POS tagging function `pos_tag()` only supports English.\n",
    "\n",
    "To do POS tagging of German text it is necessary to\n",
    "* use a different tool, like spaCy, pattern, or Stanford CoreNLP or\n",
    "* train a POS tagger on an annotated German corpus. (see https://datascience.blog.wzb.eu/2016/07/13/accurate-part-of-speech-tagging-of-german-texts-with-nltk/). However, there is no publicly available German corpus which can be officially used for commercial purposes."
   ]
  },
  {
   "cell_type": "code",
   "execution_count": null,
   "metadata": {},
   "outputs": [],
   "source": [
    "from nltk.tokenize import word_tokenize\n",
    "\n",
    "nltk.download('averaged_perceptron_tagger')"
   ]
  },
  {
   "cell_type": "markdown",
   "metadata": {},
   "source": [
    "**Wrong POS tagging of German text with English POS tags:**"
   ]
  },
  {
   "cell_type": "code",
   "execution_count": null,
   "metadata": {},
   "outputs": [],
   "source": [
    "def pos2string(tagged): return ' '.join(['/'.join(p) for p in tagged])\n",
    "\n",
    "# tag each word in every sentence\n",
    "for i, s in enumerate(sentences):\n",
    "    tagged = nltk.pos_tag(word_tokenize(s, language='german'))\n",
    "    print(i+1, '-->', pos2string(tagged))"
   ]
  },
  {
   "cell_type": "code",
   "execution_count": null,
   "metadata": {},
   "outputs": [],
   "source": [
    "def pos_filter(tagged, type = 'NN'): return [x[0] for x in tagged if x[1].startswith(type)]\n",
    "\n",
    "print('Nouns:')\n",
    "for i, s in enumerate(sentences):\n",
    "    print(i+1, '-->', pos_filter(nltk.pos_tag(word_tokenize(s, language='german')), 'NN'))\n",
    "\n",
    "print('Verbs:')\n",
    "for i, s in enumerate(sentences):\n",
    "    print(i+1, '-->', pos_filter(nltk.pos_tag(word_tokenize(s, language='german')), 'VB'))"
   ]
  },
  {
   "cell_type": "markdown",
   "metadata": {},
   "source": [
    "## Named Entity Recognition\n",
    "\n",
    "NLTK uses a max entropy NE chunker which was trained on an English corpus and which requires POS tags. (see also http://mattshomepage.com/articles/2016/May/23/nltk_nec/).\n",
    "\n",
    "To do NER tagging of German text it is necessary to\n",
    "* use a different tool, like spaCy, pattern, or Stanford CoreNLP or\n",
    "* train a NER tagger on an annotated German corpus. However, there is no publically available German corpus which can be officially used for commercial purposes.\n"
   ]
  },
  {
   "cell_type": "code",
   "execution_count": null,
   "metadata": {},
   "outputs": [],
   "source": [
    "from nltk import ne_chunk, pos_tag\n",
    "\n",
    "nltk.download('maxent_ne_chunker')\n",
    "nltk.download('words')"
   ]
  },
  {
   "cell_type": "markdown",
   "metadata": {},
   "source": [
    "**Wrong NER tagging of German text:**"
   ]
  },
  {
   "cell_type": "code",
   "execution_count": null,
   "metadata": {},
   "outputs": [],
   "source": [
    "def ner_tag(chunked): return [c[0]+'/0' if type(c) == tuple else c.leaves()[0][0]+'/'+c.label() for c in chunked]\n",
    "\n",
    "for i, s in enumerate(sentences):\n",
    "    chunked = ne_chunk(pos_tag(word_tokenize(s, language='german')))\n",
    "    print(i+1, '-->', ' '.join(ner_tag(chunked)))"
   ]
  }
 ],
 "metadata": {
  "kernelspec": {
   "display_name": "Python 3",
   "language": "python",
   "name": "python3"
  },
  "language_info": {
   "codemirror_mode": {
    "name": "ipython",
    "version": 3
   },
   "file_extension": ".py",
   "mimetype": "text/x-python",
   "name": "python",
   "nbconvert_exporter": "python",
   "pygments_lexer": "ipython3",
   "version": "3.6.4"
  }
 },
 "nbformat": 4,
 "nbformat_minor": 2
}
