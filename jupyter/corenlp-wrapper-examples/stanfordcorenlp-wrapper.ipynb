{
 "cells": [
  {
   "cell_type": "markdown",
   "metadata": {},
   "source": [
    "# [stanfordcorenlp](https://github.com/Lynten/stanford-corenlp) by Lynten\n",
    "\n",
    "**Pro**\n",
    "* Easy to use wrapper with some nice helper functions for pos-tags, ner, etc.\n",
    "\n",
    "**Con**\n",
    "* Response of annotate() returns raw json text without parsing.\n",
    "* Each call to a helper function sends a new request.\n",
    "\n",
    "_Install:_\n",
    "```sh\n",
    "pip install stanfordcorenlp\n",
    "```"
   ]
  },
  {
   "cell_type": "code",
   "execution_count": null,
   "metadata": {},
   "outputs": [],
   "source": [
    "from stanfordcorenlp import StanfordCoreNLP\n",
    "\n",
    "# 'localhost' does not work inside container - use local ip address\n",
    "corenlp_server = 'http://192.168.178.20:9000/'\n",
    "\n",
    "url = corenlp_server.replace('/','').split(':')\n",
    "host, port = ('://'.join(url[0:2]), int(url[2]))\n",
    "\n",
    "nlp = StanfordCoreNLP(host, port=port)\n",
    "\n",
    "props = {'annotators': 'tokenize,ssplit,pos'}\n",
    "print(nlp.annotate(u'Köln is a city in Germany.', properties=props))"
   ]
  }
 ],
 "metadata": {
  "kernelspec": {
   "display_name": "Python 3",
   "language": "python",
   "name": "python3"
  },
  "language_info": {
   "codemirror_mode": {
    "name": "ipython",
    "version": 3
   },
   "file_extension": ".py",
   "mimetype": "text/x-python",
   "name": "python",
   "nbconvert_exporter": "python",
   "pygments_lexer": "ipython3",
   "version": "3.6.4"
  }
 },
 "nbformat": 4,
 "nbformat_minor": 2
}
