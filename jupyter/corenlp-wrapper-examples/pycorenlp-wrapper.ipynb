{
 "cells": [
  {
   "cell_type": "markdown",
   "metadata": {},
   "source": [
    "# [py-corenlp](https://github.com/smilli/py-corenlp) by Smitha Milli\n",
    "\n",
    "**Pro**\n",
    "* A small and easy to use wrapper.\n",
    "\n",
    "**Con**\n",
    "* Unicode strings only work with Python 3.\n",
    "* Code has not been updated since 2016.\n",
    "* Probably does not support the latest updates of CoreNLP with TokenRegex.\n",
    "\n",
    "_Install:_\n",
    "```sh\n",
    "pip install pycorenlp\n",
    "```"
   ]
  },
  {
   "cell_type": "code",
   "execution_count": null,
   "metadata": {},
   "outputs": [],
   "source": [
    "from pycorenlp import StanfordCoreNLP\n",
    "\n",
    "# 'localhost' does not work inside container - use local ip address\n",
    "corenlp_server = 'http://192.168.178.20:9000/'\n",
    "\n",
    "nlp = StanfordCoreNLP(corenlp_server)\n",
    "\n",
    "props = {'annotators': 'tokenize,ssplit,pos'}\n",
    "print(nlp.annotate(u'Köln is a city in Germany.', properties=props))"
   ]
  }
 ],
 "metadata": {
  "kernelspec": {
   "display_name": "Python 3",
   "language": "python",
   "name": "python3"
  },
  "language_info": {
   "codemirror_mode": {
    "name": "ipython",
    "version": 3
   },
   "file_extension": ".py",
   "mimetype": "text/x-python",
   "name": "python",
   "nbconvert_exporter": "python",
   "pygments_lexer": "ipython3",
   "version": "3.6.4"
  }
 },
 "nbformat": 4,
 "nbformat_minor": 2
}
