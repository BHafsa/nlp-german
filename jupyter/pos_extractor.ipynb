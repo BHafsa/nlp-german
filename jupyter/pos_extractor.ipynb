{
 "cells": [
  {
   "cell_type": "markdown",
   "metadata": {},
   "source": [
    "# Extract nouns and verbs from documents.\n",
    "\n",
    "*Install:*\n",
    "\n",
    "```sh\n",
    "        pip install pandas\n",
    "```"
   ]
  },
  {
   "cell_type": "code",
   "execution_count": null,
   "metadata": {},
   "outputs": [],
   "source": [
    "import json\n",
    "from pycorenlp import StanfordCoreNLP\n",
    "\n",
    "# 'localhost' does not work inside container - use local ip address\n",
    "corenlp_server = 'http://192.168.178.20:9000/'\n",
    "\n",
    "nlp = StanfordCoreNLP(corenlp_server)"
   ]
  },
  {
   "cell_type": "code",
   "execution_count": null,
   "metadata": {},
   "outputs": [],
   "source": [
    "import pandas as pd\n",
    "\n",
    "# read data\n",
    "data_file = 'data/documents.csv.gz'\n",
    "data = pd.read_csv(data_file, delimiter='\\t', quoting=3, names = ('id', 'text'))\n",
    "\n",
    "print('loaded {} data entries.'.format(len(data)))"
   ]
  },
  {
   "cell_type": "markdown",
   "metadata": {},
   "source": [
    "## Extract nouns and verbs from text."
   ]
  },
  {
   "cell_type": "code",
   "execution_count": null,
   "metadata": {},
   "outputs": [],
   "source": [
    "NN_counts = {}\n",
    "VV_counts = {}\n",
    "\n",
    "import sys\n",
    "\n",
    "def pos_filter(sentences, type='NN'):\n",
    "    return [t['word'] for s in sentences for t in s['tokens'] if t['pos'].startswith(type)]\n",
    "\n",
    "def count_item(counts, item):\n",
    "    assert type(counts) == dict\n",
    "    if not item in counts:\n",
    "        counts[item] = 1\n",
    "    else:\n",
    "        counts[item] += 1"
   ]
  },
  {
   "cell_type": "markdown",
   "metadata": {},
   "source": [
    "**Main loop for processing each document:**"
   ]
  },
  {
   "cell_type": "code",
   "execution_count": null,
   "metadata": {},
   "outputs": [],
   "source": [
    "props = {'annotators': 'tokenize,ssplit,pos'}\n",
    "\n",
    "length = len(data)\n",
    "for i in range(0,length):\n",
    "    if (i % 100 == 0):\n",
    "        print(\"step: \", i)\n",
    "    \n",
    "    text = data['text'][i]\n",
    "    \n",
    "    result = nlp.annotate(text, properties=props)\n",
    "    res = json.loads(result, encoding='utf-8', strict=True)\n",
    "    \n",
    "    for noun in pos_filter(res['sentences'], 'NN'): count_item(NN_counts, noun)\n",
    "    for verb in pos_filter(res['sentences'], 'VV'): count_item(VV_counts, verb)"
   ]
  },
  {
   "cell_type": "code",
   "execution_count": null,
   "metadata": {},
   "outputs": [],
   "source": [
    "print(\"#nouns: \", len(NN_counts))\n",
    "print(\"#verbs: \", len(VV_counts))\n",
    "\n",
    "NN_sorted = sorted(NN_counts.items(), key=lambda t: (t[1],t[0]), reverse=True)\n",
    "VV_sorted = sorted(VV_counts.items(), key=lambda t: (t[1],t[0]), reverse=True)\n",
    "\n",
    "print('->Top nouns:')\n",
    "for key, value in NN_sorted[0:9]:\n",
    "    print(\"%s: %s\" % (key, value))\n",
    "print()\n",
    "print('->Top verbs:')\n",
    "for key, value in VV_sorted[0:9]:\n",
    "    print(\"%s: %s\" % (key, value))"
   ]
  },
  {
   "cell_type": "markdown",
   "metadata": {},
   "source": [
    "## Write nouns and verbs to csv file"
   ]
  },
  {
   "cell_type": "code",
   "execution_count": null,
   "metadata": {},
   "outputs": [],
   "source": [
    "import csv\n",
    "\n",
    "def save_counts(csv_file, counts):\n",
    "    with open(csv_file, 'w') as out:\n",
    "        w = csv.writer(out)\n",
    "        for row in counts:\n",
    "            w.writerow((row[0], row[1]))\n",
    "            \n",
    "save_counts('count_nouns.csv', NN_sorted)\n",
    "save_counts('count_verbs.csv', VV_sorted)"
   ]
  },
  {
   "cell_type": "code",
   "execution_count": null,
   "metadata": {},
   "outputs": [],
   "source": []
  }
 ],
 "metadata": {
  "kernelspec": {
   "display_name": "Python 3",
   "language": "python",
   "name": "python3"
  },
  "language_info": {
   "codemirror_mode": {
    "name": "ipython",
    "version": 3
   },
   "file_extension": ".py",
   "mimetype": "text/x-python",
   "name": "python",
   "nbconvert_exporter": "python",
   "pygments_lexer": "ipython3",
   "version": "3.6.4"
  }
 },
 "nbformat": 4,
 "nbformat_minor": 2
}
