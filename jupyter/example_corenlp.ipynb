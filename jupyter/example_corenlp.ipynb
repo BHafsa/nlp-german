{
 "cells": [
  {
   "cell_type": "markdown",
   "metadata": {},
   "source": [
    "# CoreNLP Example\n",
    "\n",
    "Uses the [py-corenlp wrapper](https://github.com/smilli/py-corenlp) by Smitha Milli.\n",
    "\n",
    "Requires a running CoreNLP server.\n",
    "\n",
    "*Install*:\n",
    "```sh\n",
    "pip install pycorenlp\n",
    "```"
   ]
  },
  {
   "cell_type": "code",
   "execution_count": null,
   "metadata": {},
   "outputs": [],
   "source": [
    "import json\n",
    "from pycorenlp import StanfordCoreNLP\n",
    "\n",
    "# create annotator\n",
    "# 'localhost' does not work inside container - use local ip address\n",
    "corenlp_server = 'http://192.168.178.20:9000/'\n",
    "nlp = StanfordCoreNLP(corenlp_server)\n",
    "props = {'annotators': 'tokenize,ssplit,pos,ner'}\n",
    "\n",
    "# annotate text\n",
    "text = u'Peter suchte ca. 5 min. die 2 Autos bzw. Sportwagen. Sie standen am 1. Mai in Berlin.'\n",
    "result = nlp.annotate(text, properties=props)\n",
    "\n",
    "res = json.loads(result, encoding='utf-8', strict=True)"
   ]
  },
  {
   "cell_type": "markdown",
   "metadata": {},
   "source": [
    "## Sentence Splitting"
   ]
  },
  {
   "cell_type": "code",
   "execution_count": null,
   "metadata": {},
   "outputs": [],
   "source": [
    "# print sentences\n",
    "for i, s in enumerate(res['sentences']):\n",
    "    print(i+1, '-->', ' '.join([t['word'] for t in s['tokens']]))"
   ]
  },
  {
   "cell_type": "markdown",
   "metadata": {},
   "source": [
    "## Part of Speech Tagging"
   ]
  },
  {
   "cell_type": "code",
   "execution_count": null,
   "metadata": {},
   "outputs": [],
   "source": [
    "# print POS tags\n",
    "for i, s in enumerate(res['sentences']):\n",
    "    print(i+1, '-->', ' '.join([t['word']+'/'+t['pos'] for t in s['tokens']]))"
   ]
  },
  {
   "cell_type": "markdown",
   "metadata": {},
   "source": [
    "## Names Entity Recognition"
   ]
  },
  {
   "cell_type": "code",
   "execution_count": null,
   "metadata": {},
   "outputs": [],
   "source": [
    "# print NER tags\n",
    "for i, s in enumerate(res['sentences']):\n",
    "    print(i+1, '-->', ' '.join([t['word']+'/'+t['ner'] for t in s['tokens']]))"
   ]
  }
 ],
 "metadata": {
  "kernelspec": {
   "display_name": "Python 3",
   "language": "python",
   "name": "python3"
  },
  "language_info": {
   "codemirror_mode": {
    "name": "ipython",
    "version": 3
   },
   "file_extension": ".py",
   "mimetype": "text/x-python",
   "name": "python",
   "nbconvert_exporter": "python",
   "pygments_lexer": "ipython3",
   "version": "3.6.4"
  }
 },
 "nbformat": 4,
 "nbformat_minor": 2
}
